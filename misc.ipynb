{
 "cells": [
  {
   "cell_type": "code",
   "execution_count": 97,
   "metadata": {},
   "outputs": [],
   "source": [
    "import numpy as np\n",
    "import pandas as pd\n",
    "import cv2\n",
    "import os \n",
    "import math as m\n",
    "import matplotlib.pyplot as plt\n",
    "from sklearn.decomposition import PCA\n",
    "from collections import Counter\n"
   ]
  },
  {
   "cell_type": "code",
   "execution_count": 98,
   "metadata": {},
   "outputs": [
    {
     "data": {
      "text/plain": [
       "'/home/m_rumi/Documents/Python Projects/Machine Learning/MNIST/data/'"
      ]
     },
     "execution_count": 98,
     "metadata": {},
     "output_type": "execute_result"
    }
   ],
   "source": [
    "file_path = f'{os.getcwd()}/MNIST/data/'\n",
    "file_path"
   ]
  },
  {
   "cell_type": "code",
   "execution_count": 99,
   "metadata": {},
   "outputs": [
    {
     "name": "stdout",
     "output_type": "stream",
     "text": [
      "(784, 1990)\n"
     ]
    }
   ],
   "source": [
    "df = pd.read_csv(file_path+'data.dat', sep=r'\\s{3}', engine='python',header=None)\n",
    "labeldf = pd.read_csv(file_path+'label.dat', sep=r'\\s{3}', engine='python',header=None)\n",
    "# Perform operations on the DataFrame as needed\n",
    "# For example, you can print the first few rows\n",
    "print(df.shape)\n"
   ]
  },
  {
   "cell_type": "code",
   "execution_count": 100,
   "metadata": {},
   "outputs": [],
   "source": [
    "feature_means = np.mean(df, axis=0)\n",
    "feature_stds = np.std(df, axis=0)\n",
    "X = (df - feature_means) / feature_stds\n"
   ]
  },
  {
   "cell_type": "code",
   "execution_count": 101,
   "metadata": {},
   "outputs": [
    {
     "data": {
      "text/plain": [
       "(784, 1990)"
      ]
     },
     "execution_count": 101,
     "metadata": {},
     "output_type": "execute_result"
    }
   ],
   "source": [
    "X.shape"
   ]
  },
  {
   "cell_type": "code",
   "execution_count": 102,
   "metadata": {},
   "outputs": [
    {
     "data": {
      "text/plain": [
       "(1990,)"
      ]
     },
     "execution_count": 102,
     "metadata": {},
     "output_type": "execute_result"
    }
   ],
   "source": [
    "\n",
    "true_labels = labeldf.values.flatten()\n",
    "# Map true labels to the range of output labels\n",
    "true_labels_mapped = np.where(true_labels == 2, 0, 1)\n",
    "true_labels_mapped.shape"
   ]
  },
  {
   "cell_type": "code",
   "execution_count": 103,
   "metadata": {},
   "outputs": [
    {
     "data": {
      "text/plain": [
       "(1990, 4)"
      ]
     },
     "execution_count": 103,
     "metadata": {},
     "output_type": "execute_result"
    }
   ],
   "source": [
    "pca = PCA(n_components=4)\n",
    "X_pca = pca.fit_transform(X.T)\n",
    "X_pca.shape"
   ]
  },
  {
   "cell_type": "code",
   "execution_count": 104,
   "metadata": {},
   "outputs": [
    {
     "data": {
      "text/plain": [
       "(1990, 4)"
      ]
     },
     "execution_count": 104,
     "metadata": {},
     "output_type": "execute_result"
    }
   ],
   "source": [
    "X_pca.shape"
   ]
  },
  {
   "cell_type": "code",
   "execution_count": 105,
   "metadata": {},
   "outputs": [
    {
     "data": {
      "text/plain": [
       "0      0.0\n",
       "1      0.0\n",
       "2      0.0\n",
       "3      0.0\n",
       "4      0.0\n",
       "      ... \n",
       "779    0.0\n",
       "780    0.0\n",
       "781    0.0\n",
       "782    0.0\n",
       "783    0.0\n",
       "Name: 1, Length: 784, dtype: float64"
      ]
     },
     "execution_count": 105,
     "metadata": {},
     "output_type": "execute_result"
    }
   ],
   "source": [
    "df[1]"
   ]
  },
  {
   "cell_type": "code",
   "execution_count": 106,
   "metadata": {},
   "outputs": [
    {
     "data": {
      "text/plain": [
       "(1990, 784)"
      ]
     },
     "execution_count": 106,
     "metadata": {},
     "output_type": "execute_result"
    }
   ],
   "source": [
    "data = df.values.T\n",
    "label = labeldf.values.T\n",
    "data.shape"
   ]
  },
  {
   "cell_type": "code",
   "execution_count": 107,
   "metadata": {},
   "outputs": [
    {
     "data": {
      "text/plain": [
       "(1990, 28, 28)"
      ]
     },
     "execution_count": 107,
     "metadata": {},
     "output_type": "execute_result"
    }
   ],
   "source": [
    "image_data=data.reshape(-1,28,28)\n",
    "# data = np.transpose(data, (2, 0, 1))\n",
    "image_data.shape"
   ]
  },
  {
   "cell_type": "code",
   "execution_count": 108,
   "metadata": {},
   "outputs": [
    {
     "data": {
      "text/plain": [
       "array([2.])"
      ]
     },
     "execution_count": 108,
     "metadata": {},
     "output_type": "execute_result"
    }
   ],
   "source": [
    "label[1]"
   ]
  },
  {
   "cell_type": "code",
   "execution_count": 109,
   "metadata": {},
   "outputs": [
    {
     "data": {
      "text/plain": [
       "<matplotlib.image.AxesImage at 0x7f59a7296590>"
      ]
     },
     "execution_count": 109,
     "metadata": {},
     "output_type": "execute_result"
    },
    {
     "data": {
      "image/png": "[encoded data removed]",
      "text/plain": [
       "<Figure size 640x480 with 1 Axes>"
      ]
     },
     "metadata": {},
     "output_type": "display_data"
    }
   ],
   "source": [
    "plt.imshow(image_data[1])\n"
   ]
  },
  {
   "attachments": {},
   "cell_type": "markdown",
   "metadata": {},
   "source": [
    "## Question 4"
   ]
  },
  {
   "cell_type": "code",
   "execution_count": 110,
   "metadata": {},
   "outputs": [
    {
     "data": {
      "text/plain": [
       "['low price for valued customer',\n",
       " 'play secrets sports today',\n",
       " 'sports is healthy',\n",
       " 'low price pizza']"
      ]
     },
     "execution_count": 110,
     "metadata": {},
     "output_type": "execute_result"
    }
   ],
   "source": [
    "V = ['secret', 'offer', 'low', 'price', 'valued', 'customer', 'today', 'dollar','million', 'sports', 'is', 'for', 'play', 'healthy', 'pizza']\n",
    "train_emails = {'spam':['million dollar offer for today', 'secret offer today', 'secret is secret' ],'ham': ['low price for valued customer', 'play secrets sports today', 'sports is healthy', 'low price pizza']}\n",
    "train_emails['ham']"
   ]
  },
  {
   "cell_type": "code",
   "execution_count": 111,
   "metadata": {},
   "outputs": [
    {
     "data": {
      "text/plain": [
       "{'spam': ['offer', 'for', 'is', 'secret', 'today', 'dollar', 'million'],\n",
       " 'ham': ['sports',\n",
       "  'low',\n",
       "  'for',\n",
       "  'play',\n",
       "  'is',\n",
       "  'pizza',\n",
       "  'secrets',\n",
       "  'valued',\n",
       "  'healthy',\n",
       "  'price',\n",
       "  'today',\n",
       "  'customer']}"
      ]
     },
     "execution_count": 111,
     "metadata": {},
     "output_type": "execute_result"
    }
   ],
   "source": [
    "unique_vocab = dict()\n",
    "for key,value in train_emails.items():\n",
    "    x = list()\n",
    "    for i in value:\n",
    "        for c in i.split():\n",
    "            x.append(c)\n",
    "    x = list(set(x)) # unique words\n",
    "    unique_vocab[key] = x\n",
    "unique_vocab\n",
    "    "
   ]
  },
  {
   "cell_type": "code",
   "execution_count": 112,
   "metadata": {},
   "outputs": [],
   "source": [
    "def calculate_icity(data,vocab,key= 'spam'):\n",
    "# Count the occurrences of each word in spam emails\n",
    "    word_counts_am = Counter(word for sentence in data[key] for word in sentence.split())\n",
    "    'spam'\n",
    "    # Calculate the spamicity for each word\n",
    "    total_am = sum(word_counts_am.values())\n",
    "    dict_icity = {w.lower(): (word_counts_am.get(w,0)+1) / (total_am+ len(vocab)) for w in vocab}\n",
    "    # Print the results\n",
    "    \n",
    "\n",
    "    return dict_icity\n",
    "    \n",
    "hamicity = calculate_icity(train_emails,V,key='ham')\n",
    "spamicity = calculate_icity(train_emails,V,key='spam')"
   ]
  },
  {
   "cell_type": "code",
   "execution_count": 113,
   "metadata": {},
   "outputs": [
    {
     "data": {
      "text/plain": [
       "{'secret': 0.03333333333333333,\n",
       " 'offer': 0.03333333333333333,\n",
       " 'low': 0.1,\n",
       " 'price': 0.1,\n",
       " 'valued': 0.06666666666666667,\n",
       " 'customer': 0.06666666666666667,\n",
       " 'today': 0.06666666666666667,\n",
       " 'dollar': 0.03333333333333333,\n",
       " 'million': 0.03333333333333333,\n",
       " 'sports': 0.1,\n",
       " 'is': 0.06666666666666667,\n",
       " 'for': 0.06666666666666667,\n",
       " 'play': 0.06666666666666667,\n",
       " 'healthy': 0.06666666666666667,\n",
       " 'pizza': 0.06666666666666667}"
      ]
     },
     "execution_count": 113,
     "metadata": {},
     "output_type": "execute_result"
    }
   ],
   "source": [
    "hamicity"
   ]
  },
  {
   "cell_type": "code",
   "execution_count": 114,
   "metadata": {},
   "outputs": [
    {
     "data": {
      "text/plain": [
       "{'secret': 0.15384615384615385,\n",
       " 'offer': 0.11538461538461539,\n",
       " 'low': 0.038461538461538464,\n",
       " 'price': 0.038461538461538464,\n",
       " 'valued': 0.038461538461538464,\n",
       " 'customer': 0.038461538461538464,\n",
       " 'today': 0.11538461538461539,\n",
       " 'dollar': 0.07692307692307693,\n",
       " 'million': 0.07692307692307693,\n",
       " 'sports': 0.038461538461538464,\n",
       " 'is': 0.07692307692307693,\n",
       " 'for': 0.07692307692307693,\n",
       " 'play': 0.038461538461538464,\n",
       " 'healthy': 0.038461538461538464,\n",
       " 'pizza': 0.038461538461538464}"
      ]
     },
     "execution_count": 114,
     "metadata": {},
     "output_type": "execute_result"
    }
   ],
   "source": [
    "spamicity"
   ]
  },
  {
   "cell_type": "code",
   "execution_count": 115,
   "metadata": {},
   "outputs": [
    {
     "data": {
      "text/plain": [
       "(0.42857142857142855, 0.5714285714285714)"
      ]
     },
     "execution_count": 115,
     "metadata": {},
     "output_type": "execute_result"
    }
   ],
   "source": [
    "S = len(train_emails['spam'])/(len(train_emails['spam']) + len(train_emails['ham']))\n",
    "H = len(train_emails['ham'])/(len(train_emails['spam']) + len(train_emails['ham']))\n",
    "S,H"
   ]
  },
  {
   "attachments": {},
   "cell_type": "markdown",
   "metadata": {},
   "source": [
    "$$\n",
    "P(C|X) = \\frac{P(C) \\cdot P(X|C)}{P(X)}\n",
    "$$\n",
    "### Generally, we don't consdider the denominator for maximization problems.\n",
    "To get the likelihood for a message to be a spam or ham we will multiply Probability of spam/ham with the likehood of a word to be spam/ham."
   ]
  },
  {
   "attachments": {},
   "cell_type": "markdown",
   "metadata": {},
   "source": [
    "# K-means"
   ]
  },
  {
   "cell_type": "code",
   "execution_count": 116,
   "metadata": {},
   "outputs": [
    {
     "data": {
      "text/plain": [
       "(784, 1990)"
      ]
     },
     "execution_count": 116,
     "metadata": {},
     "output_type": "execute_result"
    }
   ],
   "source": [
    "X.shape"
   ]
  },
  {
   "cell_type": "code",
   "execution_count": 117,
   "metadata": {},
   "outputs": [
    {
     "name": "stderr",
     "output_type": "stream",
     "text": [
      "/home/m_rumi/miniconda3/lib/python3.10/site-packages/sklearn/cluster/_kmeans.py:870: FutureWarning: The default value of `n_init` will change from 10 to 'auto' in 1.4. Set the value of `n_init` explicitly to suppress the warning\n",
      "  warnings.warn(\n"
     ]
    }
   ],
   "source": [
    "from sklearn.cluster import KMeans\n",
    "\n",
    "# Create an instance of KMeans with the desired number of clusters\n",
    "k = 2\n",
    "kmeans = KMeans(n_clusters=k)\n",
    "\n",
    "# Fit the KMeans model to your data\n",
    "kmeans.fit(X_pca)\n",
    "\n",
    "# Get the cluster labels assigned to each data point\n",
    "label = kmeans.labels_\n",
    "\n",
    "# Get the cluster centers\n",
    "centers = kmeans.cluster_centers_\n"
   ]
  },
  {
   "cell_type": "code",
   "execution_count": 118,
   "metadata": {},
   "outputs": [
    {
     "data": {
      "text/plain": [
       "(1990,)"
      ]
     },
     "execution_count": 118,
     "metadata": {},
     "output_type": "execute_result"
    }
   ],
   "source": [
    "label.shape"
   ]
  },
  {
   "cell_type": "code",
   "execution_count": 119,
   "metadata": {},
   "outputs": [],
   "source": [
    "misclassification_2 = np.mean(label[true_labels == 2] != 0)\n",
    "\n",
    "# Calculate misclassification rate for digit \"6\"\n",
    "misclassification_6 = np.mean(label[true_labels == 6] != 1)"
   ]
  },
  {
   "cell_type": "code",
   "execution_count": 120,
   "metadata": {},
   "outputs": [
    {
     "data": {
      "text/plain": [
       "0.06367432150313153"
      ]
     },
     "execution_count": 120,
     "metadata": {},
     "output_type": "execute_result"
    }
   ],
   "source": [
    "misclassification_6"
   ]
  },
  {
   "cell_type": "code",
   "execution_count": 121,
   "metadata": {},
   "outputs": [
    {
     "data": {
      "text/plain": [
       "0.06782945736434108"
      ]
     },
     "execution_count": 121,
     "metadata": {},
     "output_type": "execute_result"
    }
   ],
   "source": [
    "misclassification_2"
   ]
  },
  {
   "cell_type": "code",
   "execution_count": 126,
   "metadata": {},
   "outputs": [],
   "source": [
    "import numpy as np\n",
    "from sklearn.mixture import GaussianMixture\n",
    "\n",
    "# Load your dataset here\n",
    "# X = ...\n",
    "\n",
    "# Define the number of components (clusters) for GMM\n",
    "num_components = 2\n",
    "\n",
    "# Create an instance of GaussianMixture with EM algorithm\n",
    "gmm = GaussianMixture(n_components=num_components)\n",
    "\n",
    "# Fit the GMM model to your data\n",
    "gmm.fit(X_pca)\n",
    "\n",
    "# Get the predicted labels for your data\n",
    "predicted_labels = gmm.predict(X_pca)\n",
    "\n",
    "# Access the cluster means, covariances, and weights\n",
    "means = gmm.means_\n",
    "covariances = gmm.covariances_\n",
    "weights = gmm.weights_\n",
    "\n",
    "# Compute the log-likelihood of the data under the GMM model\n",
    "log_likelihood = gmm.score(X_pca)\n",
    "\n",
    "# Evaluate the performance, e.g., misclassification rate, using true labels\n",
    "# true_labels = ...\n",
    "# misclassification_rate = ...\n",
    "\n",
    "# Additional analysis or visualization of the GMM model and results\n",
    "# ...\n",
    "\n"
   ]
  },
  {
   "cell_type": "code",
   "execution_count": 127,
   "metadata": {},
   "outputs": [],
   "source": [
    "misclassification_2m = np.mean(predicted_labels[true_labels == 2] != 0)\n",
    "\n",
    "# Calculate misclassification rate for digit \"6\"\n",
    "misclassification_6m = np.mean(predicted_labels[true_labels == 6] != 1)"
   ]
  },
  {
   "cell_type": "code",
   "execution_count": 128,
   "metadata": {},
   "outputs": [
    {
     "data": {
      "text/plain": [
       "0.9926931106471816"
      ]
     },
     "execution_count": 128,
     "metadata": {},
     "output_type": "execute_result"
    }
   ],
   "source": [
    "misclassification_6m"
   ]
  },
  {
   "cell_type": "code",
   "execution_count": 129,
   "metadata": {},
   "outputs": [
    {
     "data": {
      "text/plain": [
       "0.9302325581395349"
      ]
     },
     "execution_count": 129,
     "metadata": {},
     "output_type": "execute_result"
    }
   ],
   "source": [
    "misclassification_2m"
   ]
  },
  {
   "cell_type": "code",
   "execution_count": null,
   "metadata": {},
   "outputs": [],
   "source": []
  }
 ],
 "metadata": {
  "kernelspec": {
   "display_name": "base",
   "language": "python",
   "name": "python3"
  },
  "language_info": {
   "codemirror_mode": {
    "name": "ipython",
    "version": 3
   },
   "file_extension": ".py",
   "mimetype": "text/x-python",
   "name": "python",
   "nbconvert_exporter": "python",
   "pygments_lexer": "ipython3",
   "version": "3.10.10"
  },
  "orig_nbformat": 4
 },
 "nbformat": 4,
 "nbformat_minor": 2
}
